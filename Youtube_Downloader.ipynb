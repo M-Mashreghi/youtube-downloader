{
  "cells": [
    {
      "cell_type": "markdown",
      "metadata": {
        "id": "m02j4iXQfkmj"
      },
      "source": [
        "# Put ur video link or music here"
      ]
    },
    {
      "cell_type": "code",
      "execution_count": 53,
      "metadata": {
        "id": "Syra-3v5wyUP"
      },
      "outputs": [],
      "source": [
        "# Created by M.Mashreghi\n",
        "\n",
        "# Download a video\n",
        "video_url_480 = \"\"\n",
        "video_url_720 = \"\"\n",
        "video_url_1080 = \"\"\n",
        "video_url_best_quality = \"\"\n",
        "\n",
        "# Download a playlist :\n",
        "playlist_url_high_quallity = \"\"\n",
        "playlist_url_480 = \"\"\n",
        "\n",
        "# Download Thumbnail :\n",
        "video_url_for_thumbnail = \"\"\n",
        "\n",
        "# Download music from utube or even utube music:\n",
        "video_url_for_music = \"\""
      ]
    },
    {
      "cell_type": "markdown",
      "metadata": {
        "id": "deRT0MGxzB9v"
      },
      "source": [
        "#ALL (Just run the cell)"
      ]
    },
    {
      "cell_type": "markdown",
      "metadata": {
        "id": "mbsz8fBNgCh9"
      },
      "source": [
        "## library and functions"
      ]
    },
    {
      "cell_type": "markdown",
      "metadata": {
        "id": "iZv5BzFHwfro"
      },
      "source": [
        "### Install and Import library"
      ]
    },
    {
      "cell_type": "code",
      "execution_count": 54,
      "metadata": {
        "colab": {
          "base_uri": "https://localhost:8080/"
        },
        "id": "RWZkL-sFa7EN",
        "outputId": "5f367ecd-065d-42df-c451-019196de1a10"
      },
      "outputs": [
        {
          "output_type": "stream",
          "name": "stdout",
          "text": [
            "Requirement already satisfied: youtube_transcript_api in /usr/local/lib/python3.10/dist-packages (0.6.1)\n",
            "Requirement already satisfied: requests in /usr/local/lib/python3.10/dist-packages (from youtube_transcript_api) (2.27.1)\n",
            "Requirement already satisfied: urllib3<1.27,>=1.21.1 in /usr/local/lib/python3.10/dist-packages (from requests->youtube_transcript_api) (1.26.16)\n",
            "Requirement already satisfied: certifi>=2017.4.17 in /usr/local/lib/python3.10/dist-packages (from requests->youtube_transcript_api) (2023.7.22)\n",
            "Requirement already satisfied: charset-normalizer~=2.0.0 in /usr/local/lib/python3.10/dist-packages (from requests->youtube_transcript_api) (2.0.12)\n",
            "Requirement already satisfied: idna<4,>=2.5 in /usr/local/lib/python3.10/dist-packages (from requests->youtube_transcript_api) (3.4)\n",
            "Requirement already satisfied: pytube in /usr/local/lib/python3.10/dist-packages (15.0.0)\n",
            "Requirement already satisfied: yt-dlp in /usr/local/lib/python3.10/dist-packages (2023.7.6)\n",
            "Requirement already satisfied: mutagen in /usr/local/lib/python3.10/dist-packages (from yt-dlp) (1.46.0)\n",
            "Requirement already satisfied: pycryptodomex in /usr/local/lib/python3.10/dist-packages (from yt-dlp) (3.18.0)\n",
            "Requirement already satisfied: websockets in /usr/local/lib/python3.10/dist-packages (from yt-dlp) (11.0.3)\n",
            "Requirement already satisfied: certifi in /usr/local/lib/python3.10/dist-packages (from yt-dlp) (2023.7.22)\n",
            "Requirement already satisfied: brotli in /usr/local/lib/python3.10/dist-packages (from yt-dlp) (1.0.9)\n",
            "Requirement already satisfied: ffmpeg-python in /usr/local/lib/python3.10/dist-packages (0.2.0)\n",
            "Requirement already satisfied: future in /usr/local/lib/python3.10/dist-packages (from ffmpeg-python) (0.18.3)\n",
            "Requirement already satisfied: youtube-dl in /usr/local/lib/python3.10/dist-packages (2021.12.17)\n",
            "Requirement already satisfied: requests in /usr/local/lib/python3.10/dist-packages (2.27.1)\n",
            "Requirement already satisfied: urllib3<1.27,>=1.21.1 in /usr/local/lib/python3.10/dist-packages (from requests) (1.26.16)\n",
            "Requirement already satisfied: certifi>=2017.4.17 in /usr/local/lib/python3.10/dist-packages (from requests) (2023.7.22)\n",
            "Requirement already satisfied: charset-normalizer~=2.0.0 in /usr/local/lib/python3.10/dist-packages (from requests) (2.0.12)\n",
            "Requirement already satisfied: idna<4,>=2.5 in /usr/local/lib/python3.10/dist-packages (from requests) (3.4)\n",
            "Requirement already satisfied: Pillow in /usr/local/lib/python3.10/dist-packages (9.4.0)\n"
          ]
        }
      ],
      "source": [
        "!pip install youtube_transcript_api\n",
        "!pip install pytube\n",
        "!pip install yt-dlp\n",
        "!pip install ffmpeg-python\n",
        "!pip install youtube-dl\n",
        "!pip install requests\n",
        "!pip install Pillow"
      ]
    },
    {
      "cell_type": "markdown",
      "metadata": {
        "id": "e_4EfDXGclEU"
      },
      "source": [
        "### Thumbnail downloader"
      ]
    },
    {
      "cell_type": "code",
      "execution_count": 55,
      "metadata": {
        "id": "JE7GPQ_qckc-"
      },
      "outputs": [],
      "source": [
        "\n",
        "import requests\n",
        "from PIL import Image\n",
        "import os\n",
        "\n",
        "def download_thumbnail(video_url):\n",
        "    try:\n",
        "        # Extract video ID from the URL\n",
        "        video_id = video_url.split('=')[-1]\n",
        "\n",
        "        # Fetch the thumbnail URL\n",
        "        thumbnail_url = f\"https://img.youtube.com/vi/{video_id}/maxresdefault.jpg\"\n",
        "\n",
        "        # Create the 'thumbnails' directory if it doesn't exist\n",
        "        if not os.path.exists('thumbnails'):\n",
        "            os.makedirs('thumbnails')\n",
        "\n",
        "        # Download the thumbnail and save it\n",
        "        thumbnail_path = os.path.join('thumbnails', f\"{video_id}.jpg\")\n",
        "        with open(thumbnail_path, 'wb') as f:\n",
        "            response = requests.get(thumbnail_url)\n",
        "            f.write(response.content)\n",
        "\n",
        "        return thumbnail_path\n",
        "    except Exception as e:\n",
        "        return str(e)\n",
        "\n",
        "# video_url = 'https://www.youtube.com/watch?v=4CiESD8IjmM'\n",
        "# thumbnail_path = download_thumbnail(video_url_for_thumbnail)\n",
        "# print(f\"Thumbnail downloaded successfully: {thumbnail_path}\")\n",
        "\n"
      ]
    },
    {
      "cell_type": "markdown",
      "metadata": {
        "id": "Pn9RSIo75BDg"
      },
      "source": [
        "### Download music"
      ]
    },
    {
      "cell_type": "code",
      "execution_count": 56,
      "metadata": {
        "id": "9-4gIeHR5DRg"
      },
      "outputs": [],
      "source": [
        "import yt_dlp\n",
        "\n",
        "def download_youtube_audio(url):\n",
        "    ydl_opts = {\n",
        "        'format': 'bestaudio/best',\n",
        "        'postprocessors': [{\n",
        "            'key': 'FFmpegExtractAudio',\n",
        "            'preferredcodec': 'mp3',\n",
        "            'preferredquality': '320',\n",
        "        }],\n",
        "    }\n",
        "\n",
        "    with yt_dlp.YoutubeDL(ydl_opts) as ydl:\n",
        "        info = ydl.extract_info(url, download=True)\n",
        "        audio_file = ydl.prepare_filename(info)\n",
        "\n",
        "    return audio_file\n",
        "\n",
        "# Replace 'YOUTUBE_URL' with the URL of the YouTube video you want to download.\n",
        "# url = 'https://youtube.com/shorts/CVj1HkqrY9s?feature=share'\n",
        "# audio_file = download_youtube_audio(video_url_for_music)\n",
        "# print(f\"Downloaded audio file: {audio_file}\")\n"
      ]
    },
    {
      "cell_type": "markdown",
      "metadata": {
        "id": "gG-_6wW70HfW"
      },
      "source": [
        "### Download single video"
      ]
    },
    {
      "cell_type": "markdown",
      "metadata": {
        "id": "gcsFJmdl3Sy8"
      },
      "source": [
        "#### Download single video with 480 or lower qulity"
      ]
    },
    {
      "cell_type": "code",
      "execution_count": 57,
      "metadata": {
        "id": "wKjbQGly3Jjh"
      },
      "outputs": [],
      "source": [
        "import yt_dlp\n",
        "\n",
        "def download_youtube_video_480(url, resolution='720'):\n",
        "    try:\n",
        "        resolutions = ['480', '320', '240']\n",
        "        format_strings = [f'bestvideo[height<={res}]+bestaudio/best[height<={res}]' for res in resolutions]\n",
        "\n",
        "        for format_str in format_strings:\n",
        "            ydl_opts = {\n",
        "                'format': format_str,\n",
        "            }\n",
        "            with yt_dlp.YoutubeDL(ydl_opts) as ydl:\n",
        "                info_dict = ydl.extract_info(url, download=True)\n",
        "                if info_dict.get('height') and info_dict['height'] <= int(resolution):\n",
        "                    print(f\"Download complete! Video in {info_dict['height']}p.\")\n",
        "                    return\n",
        "\n",
        "        print(f\"No available resolutions up to {resolution}p. Download failed.\")\n",
        "\n",
        "    except Exception as e:\n",
        "        print(f\"An error occurred: {str(e)}\")\n",
        "\n",
        "# Example usage:\n",
        "# video_url_480 = \"https://youtube.com/shorts/CVj1HkqrY9s?feature=share\"\n",
        "# download_youtube_video_480(video_url_480, resolution='480')\n"
      ]
    },
    {
      "cell_type": "markdown",
      "metadata": {
        "id": "QqogWXL34X_R"
      },
      "source": [
        "#### Download single video with 720 qulity"
      ]
    },
    {
      "cell_type": "code",
      "execution_count": 58,
      "metadata": {
        "id": "aL7fcIyV4X_S"
      },
      "outputs": [],
      "source": [
        "import yt_dlp\n",
        "\n",
        "def download_youtube_video_720(url, resolution='720'):\n",
        "    try:\n",
        "        resolutions = ['720', '480', '320', '240']\n",
        "        format_strings = [f'bestvideo[height<={res}]+bestaudio/best[height<={res}]' for res in resolutions]\n",
        "\n",
        "        for format_str in format_strings:\n",
        "            ydl_opts = {\n",
        "                'format': format_str,\n",
        "            }\n",
        "            with yt_dlp.YoutubeDL(ydl_opts) as ydl:\n",
        "                info_dict = ydl.extract_info(url, download=True)\n",
        "                if info_dict.get('height') and info_dict['height'] <= int(resolution):\n",
        "                    print(f\"Download complete! Video in {info_dict['height']}p.\")\n",
        "                    return\n",
        "\n",
        "        print(f\"No available resolutions up to {resolution}p. Download failed.\")\n",
        "\n",
        "    except Exception as e:\n",
        "        print(f\"An error occurred: {str(e)}\")\n",
        "\n",
        "# Example usage:\n",
        "# video_url_720 = \"https://www.youtube.com/watch?v=Psr4HZmWHnQ\"\n",
        "# download_youtube_video_720(video_url_720, resolution='720')\n"
      ]
    },
    {
      "cell_type": "markdown",
      "metadata": {
        "id": "q5mhDxx_4hUf"
      },
      "source": [
        "#### Download single video with 1080 qulity"
      ]
    },
    {
      "cell_type": "code",
      "execution_count": 59,
      "metadata": {
        "id": "qn0BTGNs4hUf"
      },
      "outputs": [],
      "source": [
        "import yt_dlp\n",
        "\n",
        "def download_youtube_video_1080(url, resolution='1080'):\n",
        "    try:\n",
        "        resolutions = ['1080' , '720', '480', '320', '240']\n",
        "        format_strings = [f'bestvideo[height<={res}]+bestaudio/best[height<={res}]' for res in resolutions]\n",
        "\n",
        "        for format_str in format_strings:\n",
        "            ydl_opts = {\n",
        "                'format': format_str,\n",
        "            }\n",
        "            with yt_dlp.YoutubeDL(ydl_opts) as ydl:\n",
        "                info_dict = ydl.extract_info(url, download=True)\n",
        "                if info_dict.get('height') and info_dict['height'] <= int(resolution):\n",
        "                    print(f\"Download complete! Video in {info_dict['height']}p.\")\n",
        "                    return\n",
        "\n",
        "        print(f\"No available resolutions up to {resolution}p. Download failed.\")\n",
        "\n",
        "    except Exception as e:\n",
        "        print(f\"An error occurred: {str(e)}\")\n",
        "\n",
        "# Example usage:\n",
        "# video_url_1080 = \"https://www.youtube.com/watch?v=Psr4HZmWHnQ\"\n",
        "# download_youtube_video_1080(video_url_1080, resolution='1080')\n"
      ]
    },
    {
      "cell_type": "markdown",
      "metadata": {
        "id": "NKWvsFUL3Kca"
      },
      "source": [
        "#### Download single video with best qulity"
      ]
    },
    {
      "cell_type": "code",
      "execution_count": 60,
      "metadata": {
        "id": "NegyBh9v0JDd"
      },
      "outputs": [],
      "source": [
        "import yt_dlp\n",
        "\n",
        "def download_youtube_video_best_quality(url):\n",
        "    try:\n",
        "        ydl_opts = {\n",
        "            'format': 'bestvideo[ext=mp4]+bestaudio[ext=m4a]/best[ext=mp4]/best',\n",
        "        }\n",
        "        with yt_dlp.YoutubeDL(ydl_opts) as ydl:\n",
        "            info_dict = ydl.extract_info(url, download=True)\n",
        "\n",
        "        print(\"Download complete!\")\n",
        "    except Exception as e:\n",
        "        print(f\"An error occurred: {str(e)}\")\n",
        "\n",
        "\n",
        "\n",
        "# Example usage:\n",
        "# video_url_best_quality = \"https://www.youtube.com/watch?v=Psr4HZmWHnQ\"\n",
        "# download_youtube_video_best_quality(video_url_best_quality)\n"
      ]
    },
    {
      "cell_type": "markdown",
      "metadata": {
        "id": "JsA-hfQAzM_M"
      },
      "source": [
        "### Download Playlist"
      ]
    },
    {
      "cell_type": "markdown",
      "metadata": {
        "id": "CphbbNrXzN_M"
      },
      "source": [
        "#### Download high quality"
      ]
    },
    {
      "cell_type": "code",
      "execution_count": 61,
      "metadata": {
        "id": "X3qkUMGphknI"
      },
      "outputs": [],
      "source": [
        "import re\n",
        "from pytube import Playlist, YouTube\n",
        "\n",
        "# Specify the output folder path\n",
        "output_folder = \"/content/downloads/\"\n",
        "\n",
        "def download_playlist(playlist_url):\n",
        "    playlist = Playlist(playlist_url)\n",
        "    playlist._video_regex = re.compile(r\"\\\"url\\\":\\\"(/watch\\?v=[\\w-]*)\")\n",
        "\n",
        "    print(f\"Downloading {len(playlist.video_urls)} videos from the playlist...\")\n",
        "\n",
        "    for video_url in playlist.video_urls:\n",
        "        try:\n",
        "            video = YouTube(video_url)\n",
        "            video_stream = video.streams.filter(progressive=True, file_extension=\"mp4\").order_by(\"resolution\").desc().first()\n",
        "\n",
        "            if video_stream is None:\n",
        "                print(f\"Video '{video.title}' has no available video streams. Skipping...\")\n",
        "                continue\n",
        "\n",
        "            print(f\"Downloading video '{video.title}'...\")\n",
        "            video_stream.download(output_path=output_folder)\n",
        "            print(f\"Video '{video.title}' downloaded successfully!\")\n",
        "        except Exception as e:\n",
        "            print(f\"Error downloading video: {str(e)}\")\n",
        "\n",
        "    print(\"All videos downloaded successfully!\")\n",
        "\n",
        "# Replace the following URL with the desired playlist URL\n",
        "# download_playlist(playlist_url)\n"
      ]
    },
    {
      "cell_type": "markdown",
      "metadata": {
        "id": "mlxIq7mezYHM"
      },
      "source": [
        "#### Download 480 quality"
      ]
    },
    {
      "cell_type": "code",
      "execution_count": 62,
      "metadata": {
        "id": "roE21avUyRiF"
      },
      "outputs": [],
      "source": [
        "import re\n",
        "from pytube import Playlist, YouTube\n",
        "\n",
        "# Specify the desired resolution\n",
        "desired_resolution = \"480p\"\n",
        "\n",
        "# Specify the output folder path\n",
        "output_folder = \"/content/downloads/\"\n",
        "\n",
        "def download_playlist_480(playlist_url):\n",
        "    playlist = Playlist(playlist_url)\n",
        "    playlist._video_regex = re.compile(r\"\\\"url\\\":\\\"(/watch\\?v=[\\w-]*)\")\n",
        "\n",
        "    print(f\"Downloading {len(playlist.video_urls)} videos from the playlist...\")\n",
        "\n",
        "    for video_url in playlist.video_urls:\n",
        "        try:\n",
        "            video = YouTube(video_url)\n",
        "            video_stream = video.streams.filter(res=desired_resolution, file_extension=\"mp4\").first()\n",
        "\n",
        "            if video_stream is None:\n",
        "                print(f\"Video '{video.title}' is not available in {desired_resolution}. Downloading the lowest quality...\")\n",
        "                # Get the lowest quality stream available (progressive stream)\n",
        "                video_stream = video.streams.filter(progressive=True, file_extension=\"mp4\").first()\n",
        "\n",
        "            print(f\"Downloading video '{video.title}'...\")\n",
        "            video_stream.download(output_path=output_folder)\n",
        "            print(f\"Video '{video.title}' downloaded successfully!\")\n",
        "        except Exception as e:\n",
        "            print(f\"Error downloading video: {str(e)}\")\n",
        "\n",
        "    print(\"All videos downloaded successfully!\")"
      ]
    },
    {
      "cell_type": "markdown",
      "metadata": {
        "id": "8klQF7Vl-crv"
      },
      "source": [
        "## subtitle"
      ]
    },
    {
      "cell_type": "markdown",
      "source": [
        "#### download a video subtitle"
      ],
      "metadata": {
        "id": "fSsC5zzoTvyL"
      }
    },
    {
      "cell_type": "code",
      "source": [
        "import yt_dlp\n",
        "\n",
        "# Function to download the YouTube video and extract subtitles\n",
        "def download_and_extract_subtitles(video_url):\n",
        "    ydl_opts = {\n",
        "        'writesubtitles': True,\n",
        "        'writeautomaticsub': True,\n",
        "        'skip_download': True,\n",
        "        'subtitlesformat': 'srt',\n",
        "    }\n",
        "\n",
        "    with yt_dlp.YoutubeDL(ydl_opts) as ydl:\n",
        "        info_dict = ydl.extract_info(video_url, download=False)\n",
        "        video_id = info_dict['id']\n",
        "        ydl.download([video_url])\n",
        "\n",
        "    return f'{video_id}.srt'\n",
        "\n",
        "# video_url = \"https://www.youtube.com/watch?v=N-xHcvug3WI\"\n",
        "# subtitle_file = download_and_extract_subtitles(video_url)\n",
        "\n",
        "\n"
      ],
      "metadata": {
        "id": "W6e3sBToPgiL"
      },
      "execution_count": 63,
      "outputs": []
    },
    {
      "cell_type": "markdown",
      "source": [
        "#### subtitle for playlist"
      ],
      "metadata": {
        "id": "WD2kzBYTPhKr"
      }
    },
    {
      "cell_type": "code",
      "execution_count": 64,
      "metadata": {
        "id": "qnVEDP5x-dKe"
      },
      "outputs": [],
      "source": [
        "import os\n",
        "import zipfile\n",
        "import shutil\n",
        "from pytube import Playlist\n",
        "from pytube import YouTube\n",
        "from youtube_transcript_api import YouTubeTranscriptApi\n",
        "\n",
        "# Function to download subtitles from a YouTube video\n",
        "def download_subtitles_as_srt(video_url):\n",
        "    try:\n",
        "        # Get video title\n",
        "        yt = YouTube(video_url)\n",
        "        video_title = yt.title.replace(\" \", \"_\").replace(\"/\", \"-\")  # Replace spaces and / with underscores and dashes\n",
        "\n",
        "        # Create the 'temp' folder if it doesn't exist\n",
        "        temp_folder = \"temp\"\n",
        "        os.makedirs(temp_folder, exist_ok=True)\n",
        "\n",
        "        # Download the video using pytube in the 'temp' folder\n",
        "        yt.streams.filter(file_extension='mp4', progressive=True, resolution='360p').first().download(output_path=temp_folder)\n",
        "        video_filename = os.path.join(temp_folder, f\"{video_title}.mp4\")\n",
        "\n",
        "        # Check if subtitles are available for the video\n",
        "        transcript_list = YouTubeTranscriptApi.get_transcript(yt.video_id)\n",
        "        if not transcript_list:\n",
        "            print(f\"No subtitles available for video: {video_url}\")\n",
        "            return None\n",
        "\n",
        "        # Convert transcript to .srt format\n",
        "        srt_data = ''\n",
        "        for i, transcript in enumerate(transcript_list, start=1):\n",
        "            start_time = transcript['start']\n",
        "            end_time = transcript['start'] + transcript['duration']\n",
        "            text = transcript['text'].replace('\\n', ' ')\n",
        "            srt_data += f\"{i}\\n{start_time} --> {end_time}\\n{text}\\n\\n\"\n",
        "\n",
        "        # Save the .srt file in the 'subtitles' folder\n",
        "        subtitles_folder = \"subtitles\"\n",
        "        os.makedirs(subtitles_folder, exist_ok=True)  # Create the folder if it doesn't exist\n",
        "        srt_filename = os.path.join(subtitles_folder, f\"{video_title}.srt\")\n",
        "        with open(srt_filename, 'w', encoding='utf-8') as file:\n",
        "            file.write(srt_data)\n",
        "\n",
        "        # Remove the downloaded video file\n",
        "        os.remove(video_filename)\n",
        "\n",
        "        print(f\"Subtitles downloaded for video: {video_url}\")\n",
        "        return srt_filename\n",
        "    except Exception as e:\n",
        "        print(f\"Error downloading subtitles for video: {video_url}, Error: {e}\")\n",
        "        return None\n",
        "\n",
        "# Function to create a Zip file from the 'subtitles' folder\n",
        "def create_zip_from_subtitles():\n",
        "    subtitles_folder = \"subtitles\"\n",
        "    temp_folder = \"temp\"\n",
        "    zip_filename = \"subtitles.zip\"\n",
        "\n",
        "    try:\n",
        "        # Create a Zip file from the 'subtitles' folder\n",
        "        with zipfile.ZipFile(zip_filename, 'w') as zip_file:\n",
        "            for foldername, subfolders, filenames in os.walk(subtitles_folder):\n",
        "                for filename in filenames:\n",
        "                    file_path = os.path.join(foldername, filename)\n",
        "                    zip_file.write(file_path, os.path.relpath(file_path, subtitles_folder))\n",
        "\n",
        "        print(f\"Zip file '{zip_filename}' created successfully.\")\n",
        "\n",
        "        # Delete the 'temp' folder\n",
        "        shutil.rmtree(temp_folder)\n",
        "        print(\"Temporary folder 'temp' deleted successfully.\")\n",
        "    except Exception as e:\n",
        "        print(f\"Error creating Zip file or deleting 'temp' folder: {e}\")\n",
        "\n",
        "# Function to download subtitles for all videos in a playlist\n",
        "def download_subtitles_for_playlist(playlist_url):\n",
        "    playlist = Playlist(playlist_url)\n",
        "\n",
        "    try:\n",
        "        # Get the video URLs from the playlist using pytube\n",
        "        video_urls = playlist.video_urls\n",
        "\n",
        "        # Download subtitles for each video in the playlist\n",
        "        for video_url in video_urls:\n",
        "            srt_filename = download_subtitles_as_srt(video_url)\n",
        "            if srt_filename:\n",
        "                print(f\"Subtitles downloaded for video: {video_url}\")\n",
        "\n",
        "        # Create a Zip file from the 'subtitles' folder\n",
        "        create_zip_from_subtitles()\n",
        "    except Exception as e:\n",
        "        print(f\"Error downloading playlist subtitles: {e}\")\n",
        "\n",
        "# # Provide the YouTube playlist URL\n",
        "# playlist_url = \"https://youtube.com/playlist?list=PLqYmG7hTraZDM-OYHWgPebj2MfCFzFObQ\"\n",
        "\n",
        "# # Call the function to download subtitles for the playlist\n",
        "# download_subtitles_for_playlist(playlist_url)\n"
      ]
    },
    {
      "cell_type": "markdown",
      "metadata": {
        "id": "Fdfjpv3Yhs_x"
      },
      "source": [
        "## Main"
      ]
    },
    {
      "cell_type": "code",
      "execution_count": 65,
      "metadata": {
        "colab": {
          "base_uri": "https://localhost:8080/"
        },
        "id": "vvO2W8UYhsfq",
        "outputId": "f4937536-76d6-4503-aaaa-24b041226efc"
      },
      "outputs": [
        {
          "output_type": "stream",
          "name": "stdout",
          "text": [
            "[youtube] Extracting URL: https://www.youtube.com/watch?v=F63h3v9QV7w\n",
            "[youtube] F63h3v9QV7w: Downloading webpage\n",
            "[youtube] F63h3v9QV7w: Downloading ios player API JSON\n",
            "[youtube] F63h3v9QV7w: Downloading android player API JSON\n",
            "[youtube] F63h3v9QV7w: Downloading m3u8 information\n",
            "[info] F63h3v9QV7w: Downloading 1 format(s): 244+251\n",
            "[download] Destination: Red Dead Redemption 2： Official Trailer #2 [F63h3v9QV7w].f244.webm\n",
            "[download] 100% of    4.61MiB in 00:00:00 at 15.76MiB/s  \n",
            "[download] Destination: Red Dead Redemption 2： Official Trailer #2 [F63h3v9QV7w].f251.webm\n",
            "[download] 100% of    1.39MiB in 00:00:00 at 5.91MiB/s   \n",
            "[Merger] Merging formats into \"Red Dead Redemption 2： Official Trailer #2 [F63h3v9QV7w].webm\"\n",
            "Deleting original file Red Dead Redemption 2： Official Trailer #2 [F63h3v9QV7w].f251.webm (pass -k to keep)\n",
            "Deleting original file Red Dead Redemption 2： Official Trailer #2 [F63h3v9QV7w].f244.webm (pass -k to keep)\n",
            "Download complete! Video in 480p.\n",
            "[youtube] Extracting URL: https://www.youtube.com/watch?v=F63h3v9QV7w\n",
            "[youtube] F63h3v9QV7w: Downloading webpage\n",
            "[youtube] F63h3v9QV7w: Downloading ios player API JSON\n",
            "[youtube] F63h3v9QV7w: Downloading android player API JSON\n",
            "[youtube] F63h3v9QV7w: Downloading m3u8 information\n",
            "[info] F63h3v9QV7w: Downloading subtitles: en\n"
          ]
        },
        {
          "output_type": "stream",
          "name": "stderr",
          "text": [
            "WARNING: No subtitle format found matching \"srt\" for language en, using vtt\n"
          ]
        },
        {
          "output_type": "stream",
          "name": "stdout",
          "text": [
            "[youtube] Extracting URL: https://www.youtube.com/watch?v=F63h3v9QV7w\n",
            "[youtube] F63h3v9QV7w: Downloading webpage\n",
            "[youtube] F63h3v9QV7w: Downloading ios player API JSON\n",
            "[youtube] F63h3v9QV7w: Downloading android player API JSON\n",
            "[youtube] F63h3v9QV7w: Downloading m3u8 information\n",
            "[info] F63h3v9QV7w: Downloading subtitles: en\n"
          ]
        },
        {
          "output_type": "stream",
          "name": "stderr",
          "text": [
            "WARNING: No subtitle format found matching \"srt\" for language en, using vtt\n"
          ]
        },
        {
          "output_type": "stream",
          "name": "stdout",
          "text": [
            "[info] F63h3v9QV7w: Downloading 1 format(s): 248+251\n",
            "Deleting existing file Red Dead Redemption 2： Official Trailer #2 [F63h3v9QV7w].en.vtt\n",
            "[info] Writing video subtitles to: Red Dead Redemption 2： Official Trailer #2 [F63h3v9QV7w].en.vtt\n",
            "[download] Destination: Red Dead Redemption 2： Official Trailer #2 [F63h3v9QV7w].en.vtt\n",
            "[download] 100% of    1.06KiB in 00:00:00 at 26.17KiB/s\n",
            "[youtube] Extracting URL: https://www.youtube.com/watch?v=OKkRUnfEIyQ\n",
            "[youtube] OKkRUnfEIyQ: Downloading webpage\n",
            "[youtube] OKkRUnfEIyQ: Downloading ios player API JSON\n",
            "[youtube] OKkRUnfEIyQ: Downloading android player API JSON\n",
            "[youtube] OKkRUnfEIyQ: Downloading m3u8 information\n",
            "[youtube] OKkRUnfEIyQ: Downloading MPD manifest\n",
            "[info] OKkRUnfEIyQ: Downloading 1 format(s): 247+251\n",
            "[download] Nier Automata - City Ruins (Slow, Reverb, Echo, Rain) [OKkRUnfEIyQ].webm has already been downloaded\n",
            "Download complete! Video in 720p.\n",
            "[youtube] Extracting URL: https://www.youtube.com/watch?v=OKkRUnfEIyQ\n",
            "[youtube] OKkRUnfEIyQ: Downloading webpage\n",
            "[youtube] OKkRUnfEIyQ: Downloading ios player API JSON\n",
            "[youtube] OKkRUnfEIyQ: Downloading android player API JSON\n",
            "[youtube] OKkRUnfEIyQ: Downloading m3u8 information\n",
            "[youtube] OKkRUnfEIyQ: Downloading MPD manifest\n",
            "[youtube] Extracting URL: https://www.youtube.com/watch?v=OKkRUnfEIyQ\n",
            "[youtube] OKkRUnfEIyQ: Downloading webpage\n",
            "[youtube] OKkRUnfEIyQ: Downloading ios player API JSON\n",
            "[youtube] OKkRUnfEIyQ: Downloading android player API JSON\n",
            "[youtube] OKkRUnfEIyQ: Downloading m3u8 information\n",
            "[youtube] OKkRUnfEIyQ: Downloading MPD manifest\n",
            "[info] OKkRUnfEIyQ: Downloading 1 format(s): 248+251\n",
            "[info] There are no subtitles for the requested languages\n"
          ]
        }
      ],
      "source": [
        "# Created by M.Mashreghi\n",
        "\n",
        "\n",
        "def main():\n",
        "    if video_url_480 != \"\":\n",
        "      download_youtube_video_480(video_url_480, resolution='480')\n",
        "      subtitle_file = download_and_extract_subtitles(video_url_480)\n",
        "    if video_url_720 != \"\":\n",
        "      download_youtube_video_720(video_url_720, resolution='720')\n",
        "      subtitle_file = download_and_extract_subtitles(video_url_720)\n",
        "\n",
        "    if video_url_1080 != \"\":\n",
        "      download_youtube_video_1080(video_url_1080, resolution='1080')\n",
        "      subtitle_file = download_and_extract_subtitles(video_url_1080)\n",
        "\n",
        "    if video_url_best_quality != \"\":\n",
        "      download_youtube_video_best_quality(video_url_best_quality)\n",
        "      subtitle_file = download_and_extract_subtitles(video_url_best_quality)\n",
        "\n",
        "    if playlist_url_high_quallity != \"\":\n",
        "      download_playlist(playlist_url_high_quallity)\n",
        "      download_subtitles_for_playlist(playlist_url_high_quallity)\n",
        "    if playlist_url_480 != \"\":\n",
        "      download_playlist_480(playlist_url_480)\n",
        "      download_subtitles_for_playlist(playlist_url_480)\n",
        "    if video_url_for_thumbnail != \"\":\n",
        "      thumbnail_path = download_thumbnail(video_url_for_thumbnail)\n",
        "      print(f\"Thumbnail downloaded successfully: {thumbnail_path}\")\n",
        "    if video_url_for_music != \"\":\n",
        "      download_youtube_audio(video_url_for_music)\n",
        "      subtitle_file = download_and_extract_subtitles(video_url_for_music)\n",
        "\n",
        "\n",
        "\n",
        "\n",
        "\n",
        "if __name__ == \"__main__\":\n",
        "    main()\n"
      ]
    },
    {
      "cell_type": "markdown",
      "metadata": {
        "id": "apqPsbWzyEjo"
      },
      "source": [
        "# Delete the playlist folder and files for playlist (don't run)"
      ]
    },
    {
      "cell_type": "code",
      "execution_count": 25,
      "metadata": {
        "colab": {
          "base_uri": "https://localhost:8080/"
        },
        "id": "xG8VxwNPtyU5",
        "outputId": "7cd9ae36-1eda-4556-d248-1f43efe56c61"
      },
      "outputs": [
        {
          "output_type": "stream",
          "name": "stdout",
          "text": [
            "Downloads folder deleted successfully!\n"
          ]
        }
      ],
      "source": [
        "import shutil\n",
        "\n",
        "# Specify the path to the downloads folder\n",
        "downloads_folder_path = \"/content/downloads\"\n",
        "\n",
        "# Use the shutil.rmtree() function to delete the folder and its contents\n",
        "shutil.rmtree(downloads_folder_path)\n",
        "\n",
        "print(\"Downloads folder deleted successfully!\")"
      ]
    }
  ],
  "metadata": {
    "colab": {
      "collapsed_sections": [
        "deRT0MGxzB9v",
        "mbsz8fBNgCh9",
        "iZv5BzFHwfro",
        "e_4EfDXGclEU",
        "Pn9RSIo75BDg",
        "gG-_6wW70HfW",
        "gcsFJmdl3Sy8",
        "QqogWXL34X_R",
        "q5mhDxx_4hUf",
        "JsA-hfQAzM_M",
        "CphbbNrXzN_M",
        "mlxIq7mezYHM",
        "apqPsbWzyEjo"
      ],
      "provenance": []
    },
    "kernelspec": {
      "display_name": "Python 3",
      "name": "python3"
    },
    "language_info": {
      "name": "python"
    }
  },
  "nbformat": 4,
  "nbformat_minor": 0
}