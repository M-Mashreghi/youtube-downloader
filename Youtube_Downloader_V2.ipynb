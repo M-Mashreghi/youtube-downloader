{
  "cells": [
    {
      "cell_type": "markdown",
      "metadata": {
        "id": "m02j4iXQfkmj"
      },
      "source": [
        "# Put ur video link or music here"
      ]
    },
    {
      "cell_type": "code",
      "execution_count": 20,
      "metadata": {
        "id": "Syra-3v5wyUP"
      },
      "outputs": [],
      "source": [
        "# Created by M.Mashreghi\n",
        "\n",
        "# Download a video\n",
        "video_url_480 = \"\"\n",
        "video_url_720 = \"\"\n",
        "video_url_1080 = \"https://www.youtube.com/watch?v=grZigSpVDno\"#\n",
        "video_url_best_quality = \"\"\n",
        "\n",
        "# Download a playlist :\n",
        "playlist_url_high_quallity = \"\"#\n",
        "playlist_url_480 = \"https://youtube.com/playlist?list=PLZHQObOWTQDPD3MizzM2xVFitgF8hE_ab&si=f0HCWGpezhe8rpHW\"\n",
        "\n",
        "# Download Thumbnail :\n",
        "video_url_for_thumbnail = \"\"\n",
        "\n",
        "# Download music from utube or even utube music:\n",
        "video_url_for_music = \"\""
      ]
    },
    {
      "cell_type": "markdown",
      "metadata": {
        "id": "deRT0MGxzB9v"
      },
      "source": [
        "# ALL (Just run the cell)"
      ]
    },
    {
      "cell_type": "markdown",
      "metadata": {
        "id": "mbsz8fBNgCh9"
      },
      "source": [
        "## library and functions"
      ]
    },
    {
      "cell_type": "markdown",
      "metadata": {
        "id": "iZv5BzFHwfro"
      },
      "source": [
        "### Install and Import library"
      ]
    },
    {
      "cell_type": "code",
      "execution_count": 21,
      "metadata": {
        "colab": {
          "base_uri": "https://localhost:8080/"
        },
        "id": "RWZkL-sFa7EN",
        "outputId": "fe294979-63bc-4a06-fcb2-acc020939bb8"
      },
      "outputs": [
        {
          "output_type": "stream",
          "name": "stdout",
          "text": [
            "Requirement already satisfied: youtube_transcript_api in /usr/local/lib/python3.10/dist-packages (0.6.1)\n",
            "Requirement already satisfied: requests in /usr/local/lib/python3.10/dist-packages (from youtube_transcript_api) (2.31.0)\n",
            "Requirement already satisfied: charset-normalizer<4,>=2 in /usr/local/lib/python3.10/dist-packages (from requests->youtube_transcript_api) (3.3.0)\n",
            "Requirement already satisfied: idna<4,>=2.5 in /usr/local/lib/python3.10/dist-packages (from requests->youtube_transcript_api) (3.4)\n",
            "Requirement already satisfied: urllib3<3,>=1.21.1 in /usr/local/lib/python3.10/dist-packages (from requests->youtube_transcript_api) (2.0.6)\n",
            "Requirement already satisfied: certifi>=2017.4.17 in /usr/local/lib/python3.10/dist-packages (from requests->youtube_transcript_api) (2023.7.22)\n",
            "Requirement already satisfied: pytube in /usr/local/lib/python3.10/dist-packages (15.0.0)\n",
            "Requirement already satisfied: yt-dlp in /usr/local/lib/python3.10/dist-packages (2023.10.7)\n",
            "Requirement already satisfied: mutagen in /usr/local/lib/python3.10/dist-packages (from yt-dlp) (1.47.0)\n",
            "Requirement already satisfied: pycryptodomex in /usr/local/lib/python3.10/dist-packages (from yt-dlp) (3.19.0)\n",
            "Requirement already satisfied: websockets in /usr/local/lib/python3.10/dist-packages (from yt-dlp) (11.0.3)\n",
            "Requirement already satisfied: certifi in /usr/local/lib/python3.10/dist-packages (from yt-dlp) (2023.7.22)\n",
            "Requirement already satisfied: brotli in /usr/local/lib/python3.10/dist-packages (from yt-dlp) (1.1.0)\n",
            "Requirement already satisfied: requests in /usr/local/lib/python3.10/dist-packages (2.31.0)\n",
            "Requirement already satisfied: charset-normalizer<4,>=2 in /usr/local/lib/python3.10/dist-packages (from requests) (3.3.0)\n",
            "Requirement already satisfied: idna<4,>=2.5 in /usr/local/lib/python3.10/dist-packages (from requests) (3.4)\n",
            "Requirement already satisfied: urllib3<3,>=1.21.1 in /usr/local/lib/python3.10/dist-packages (from requests) (2.0.6)\n",
            "Requirement already satisfied: certifi>=2017.4.17 in /usr/local/lib/python3.10/dist-packages (from requests) (2023.7.22)\n",
            "Requirement already satisfied: Pillow in /usr/local/lib/python3.10/dist-packages (9.4.0)\n"
          ]
        }
      ],
      "source": [
        "!pip install youtube_transcript_api\n",
        "!pip install pytube\n",
        "!pip install yt-dlp\n",
        "!pip install requests\n",
        "!pip install Pillow"
      ]
    },
    {
      "cell_type": "markdown",
      "metadata": {
        "id": "e_4EfDXGclEU"
      },
      "source": [
        "### Thumbnail downloader"
      ]
    },
    {
      "cell_type": "code",
      "execution_count": 22,
      "metadata": {
        "id": "JE7GPQ_qckc-"
      },
      "outputs": [],
      "source": [
        "\n",
        "import requests\n",
        "from PIL import Image\n",
        "import os\n",
        "\n",
        "def download_thumbnail(video_url):\n",
        "    try:\n",
        "        # Extract video ID from the URL\n",
        "        video_id = video_url.split('=')[-1]\n",
        "\n",
        "        # Fetch the thumbnail URL\n",
        "        thumbnail_url = f\"https://img.youtube.com/vi/{video_id}/maxresdefault.jpg\"\n",
        "\n",
        "        # Create the 'thumbnails' directory if it doesn't exist\n",
        "        if not os.path.exists('thumbnails'):\n",
        "            os.makedirs('thumbnails')\n",
        "\n",
        "        # Download the thumbnail and save it\n",
        "        thumbnail_path = os.path.join('thumbnails', f\"{video_id}.jpg\")\n",
        "        with open(thumbnail_path, 'wb') as f:\n",
        "            response = requests.get(thumbnail_url)\n",
        "            f.write(response.content)\n",
        "\n",
        "        return thumbnail_path\n",
        "    except Exception as e:\n",
        "        return str(e)\n",
        "\n",
        "# video_url = 'https://www.youtube.com/watch?v=4CiESD8IjmM'\n",
        "# thumbnail_path = download_thumbnail(video_url_for_thumbnail)\n",
        "# print(f\"Thumbnail downloaded successfully: {thumbnail_path}\")\n",
        "\n"
      ]
    },
    {
      "cell_type": "markdown",
      "metadata": {
        "id": "Pn9RSIo75BDg"
      },
      "source": [
        "### Download music"
      ]
    },
    {
      "cell_type": "code",
      "execution_count": 23,
      "metadata": {
        "id": "9-4gIeHR5DRg"
      },
      "outputs": [],
      "source": [
        "import yt_dlp\n",
        "\n",
        "def download_youtube_audio(url):\n",
        "    ydl_opts = {\n",
        "        'format': 'bestaudio/best',\n",
        "        'postprocessors': [{\n",
        "            'key': 'FFmpegExtractAudio',\n",
        "            'preferredcodec': 'mp3',\n",
        "            'preferredquality': '320',\n",
        "        }],\n",
        "    }\n",
        "\n",
        "    with yt_dlp.YoutubeDL(ydl_opts) as ydl:\n",
        "        info = ydl.extract_info(url, download=True)\n",
        "        audio_file = ydl.prepare_filename(info)\n",
        "\n",
        "    return audio_file\n",
        "\n",
        "# Replace 'YOUTUBE_URL' with the URL of the YouTube video you want to download.\n",
        "# url = 'https://youtube.com/shorts/CVj1HkqrY9s?feature=share'\n",
        "# audio_file = download_youtube_audio(video_url_for_music)\n",
        "# print(f\"Downloaded audio file: {audio_file}\")\n"
      ]
    },
    {
      "cell_type": "markdown",
      "metadata": {
        "id": "gG-_6wW70HfW"
      },
      "source": [
        "### Download single video"
      ]
    },
    {
      "cell_type": "markdown",
      "metadata": {
        "id": "gcsFJmdl3Sy8"
      },
      "source": [
        "#### Download single video with 480 or lower qulity"
      ]
    },
    {
      "cell_type": "code",
      "execution_count": 24,
      "metadata": {
        "id": "wKjbQGly3Jjh"
      },
      "outputs": [],
      "source": [
        "import yt_dlp\n",
        "\n",
        "def download_youtube_video_480(url, resolution='480'):\n",
        "    try:\n",
        "        resolutions = ['480', '320', '240']\n",
        "        format_strings = [f'bestvideo[height<={res}]+bestaudio/best[height<={res}]' for res in resolutions]\n",
        "\n",
        "        for format_str in format_strings:\n",
        "            ydl_opts = {\n",
        "                'format': format_str,\n",
        "            }\n",
        "            with yt_dlp.YoutubeDL(ydl_opts) as ydl:\n",
        "                info_dict = ydl.extract_info(url, download=True)\n",
        "                if info_dict.get('height') and info_dict['height'] <= int(resolution):\n",
        "                    print(f\"Download complete! Video in {info_dict['height']}p.\")\n",
        "                    return\n",
        "\n",
        "        print(f\"No available resolutions up to {resolution}p. Download failed.\")\n",
        "\n",
        "    except Exception as e:\n",
        "        print(f\"An error occurred: {str(e)}\")\n",
        "\n",
        "# Example usage:\n",
        "# video_url_480 = \"https://youtube.com/shorts/CVj1HkqrY9s?feature=share\"\n",
        "# download_youtube_video_480(video_url_480, resolution='480')\n"
      ]
    },
    {
      "cell_type": "markdown",
      "metadata": {
        "id": "QqogWXL34X_R"
      },
      "source": [
        "#### Download single video with 720 qulity"
      ]
    },
    {
      "cell_type": "code",
      "execution_count": 25,
      "metadata": {
        "id": "aL7fcIyV4X_S"
      },
      "outputs": [],
      "source": [
        "import yt_dlp\n",
        "\n",
        "def download_youtube_video_720(url, resolution='720'):\n",
        "    try:\n",
        "        resolutions = ['720', '480', '320', '240']\n",
        "        format_strings = [f'bestvideo[height<={res}]+bestaudio/best[height<={res}]' for res in resolutions]\n",
        "\n",
        "        for format_str in format_strings:\n",
        "            ydl_opts = {\n",
        "                'format': format_str,\n",
        "            }\n",
        "            with yt_dlp.YoutubeDL(ydl_opts) as ydl:\n",
        "                info_dict = ydl.extract_info(url, download=True)\n",
        "                if info_dict.get('height') and info_dict['height'] <= int(resolution):\n",
        "                    print(f\"Download complete! Video in {info_dict['height']}p.\")\n",
        "                    return\n",
        "\n",
        "        print(f\"No available resolutions up to {resolution}p. Download failed.\")\n",
        "\n",
        "    except Exception as e:\n",
        "        print(f\"An error occurred: {str(e)}\")\n",
        "\n",
        "# Example usage:\n",
        "# video_url_720 = \"https://www.youtube.com/watch?v=Psr4HZmWHnQ\"\n",
        "# download_youtube_video_720(video_url_720, resolution='720')\n"
      ]
    },
    {
      "cell_type": "markdown",
      "metadata": {
        "id": "q5mhDxx_4hUf"
      },
      "source": [
        "#### Download single video with 1080 qulity"
      ]
    },
    {
      "cell_type": "code",
      "execution_count": 26,
      "metadata": {
        "id": "qn0BTGNs4hUf"
      },
      "outputs": [],
      "source": [
        "import yt_dlp\n",
        "\n",
        "\n",
        "def download_youtube_video_1080(url, resolution='1080'):\n",
        "    try:\n",
        "        resolutions = ['1080' , '720', '480', '320', '240']\n",
        "        format_strings = [f'bestvideo[height<={res}]+bestaudio/best[height<={res}]' for res in resolutions]\n",
        "\n",
        "        for format_str in format_strings:\n",
        "            ydl_opts = {\n",
        "                'format': format_str,\n",
        "            }\n",
        "            with yt_dlp.YoutubeDL(ydl_opts) as ydl:\n",
        "                info_dict = ydl.extract_info(url, download=True)\n",
        "                if info_dict.get('height') and info_dict['height'] <= int(resolution):\n",
        "                    print(f\"Download complete! Video in {info_dict['height']}p.\")\n",
        "                    return\n",
        "\n",
        "        print(f\"No available resolutions up to {resolution}p. Download failed.\")\n",
        "\n",
        "    except Exception as e:\n",
        "        print(f\"An error occurred: {str(e)}\")\n",
        "\n",
        "# Example usage:\n",
        "# video_url_1080 = \"https://www.youtube.com/watch?v=Psr4HZmWHnQ\"\n",
        "# download_youtube_video_1080(video_url_1080, resolution='1080')"
      ]
    },
    {
      "cell_type": "markdown",
      "metadata": {
        "id": "NKWvsFUL3Kca"
      },
      "source": [
        "#### Download single video with best qulity"
      ]
    },
    {
      "cell_type": "code",
      "execution_count": 27,
      "metadata": {
        "id": "NegyBh9v0JDd"
      },
      "outputs": [],
      "source": [
        "import yt_dlp\n",
        "\n",
        "def download_youtube_video_best_quality(url):\n",
        "    try:\n",
        "        ydl_opts = {\n",
        "            'format': 'bestvideo[ext=mp4]+bestaudio[ext=m4a]/best[ext=mp4]/best',\n",
        "        }\n",
        "        with yt_dlp.YoutubeDL(ydl_opts) as ydl:\n",
        "            info_dict = ydl.extract_info(url, download=True)\n",
        "\n",
        "        print(\"Download complete!\")\n",
        "    except Exception as e:\n",
        "        print(f\"An error occurred: {str(e)}\")\n",
        "\n",
        "\n",
        "\n",
        "# Example usage:\n",
        "# video_url_best_quality = \"https://www.youtube.com/watch?v=Psr4HZmWHnQ\"\n",
        "# download_youtube_video_best_quality(video_url_best_quality)\n"
      ]
    },
    {
      "cell_type": "markdown",
      "metadata": {
        "id": "JsA-hfQAzM_M"
      },
      "source": [
        "### Download Playlist"
      ]
    },
    {
      "cell_type": "markdown",
      "metadata": {
        "id": "CphbbNrXzN_M"
      },
      "source": [
        "#### Download high quality"
      ]
    },
    {
      "cell_type": "code",
      "source": [
        "import yt_dlp\n",
        "import os\n",
        "\n",
        "def download_youtube_video_1080_folder(url, resolution='1080', output_folder='download'):\n",
        "    try:\n",
        "        resolutions = ['1080', '720', '480', '320', '240']\n",
        "        format_strings = [f'bestvideo[height<={res}]+bestaudio/best[height<={res}]' for res in resolutions]\n",
        "\n",
        "        for format_str in format_strings:\n",
        "            ydl_opts = {\n",
        "                'format': format_str,\n",
        "                'outtmpl': os.path.join(output_folder, '%(title)s.%(ext)s'),\n",
        "            }\n",
        "            with yt_dlp.YoutubeDL(ydl_opts) as ydl:\n",
        "                info_dict = ydl.extract_info(url, download=True)\n",
        "                if info_dict.get('height') and info_dict['height'] <= int(resolution):\n",
        "                    print(f\"Download complete! Video in {info_dict['height']}p.\")\n",
        "                    return\n",
        "\n",
        "        print(f\"No available resolutions up to {resolution}p. Download failed.\")\n",
        "\n",
        "    except Exception as e:\n",
        "        print(f\"An error occurred: {str(e)}\")\n",
        "\n",
        "# Example usage:\n",
        "# video_url_1080 = \"https://www.youtube.com/watch?v=Psr4HZmWHnQ\"\n",
        "# download_youtube_video_1080(video_url_1080, resolution='1080')"
      ],
      "metadata": {
        "id": "KiL7getfP3CW"
      },
      "execution_count": 28,
      "outputs": []
    },
    {
      "cell_type": "code",
      "execution_count": 29,
      "metadata": {
        "id": "X3qkUMGphknI"
      },
      "outputs": [],
      "source": [
        "import re\n",
        "from pytube import Playlist, YouTube\n",
        "\n",
        "# Specify the output folder path\n",
        "output_folder = \"/content/downloads/\"\n",
        "\n",
        "def download_playlist(playlist_url):\n",
        "    playlist = Playlist(playlist_url)\n",
        "    playlist._video_regex = re.compile(r\"\\\"url\\\":\\\"(/watch\\?v=[\\w-]*)\")\n",
        "\n",
        "    print(f\"Downloading {len(playlist.video_urls)} videos from the playlist...\")\n",
        "\n",
        "    for video_url in playlist.video_urls:\n",
        "        try:\n",
        "            download_youtube_video_1080_folder(video_url, resolution='1080')\n",
        "\n",
        "        except AttributeError as e:\n",
        "            print(f\"Error downloading video: {str(e)}\")\n",
        "            print(f\"Video may not have any streams available.\")\n",
        "        except Exception as e:\n",
        "            print(f\"Error downloading video: {str(e)}\")\n",
        "\n",
        "    print(\"All videos downloaded successfully!\")\n",
        "\n",
        "# Replace the following URL with the desired playlist URL\n",
        "# download_playlist(playlist_url)\n"
      ]
    },
    {
      "cell_type": "markdown",
      "metadata": {
        "id": "mlxIq7mezYHM"
      },
      "source": [
        "#### Download 480 quality"
      ]
    },
    {
      "cell_type": "code",
      "source": [
        "import yt_dlp\n",
        "import os\n",
        "\n",
        "def download_youtube_video_480_folder(url, resolution='480', output_folder='download'):\n",
        "    try:\n",
        "        resolutions = ['480', '320', '240']\n",
        "        format_strings = [f'bestvideo[height<={res}]+bestaudio/best[height<={res}]' for res in resolutions]\n",
        "\n",
        "        for format_str in format_strings:\n",
        "            ydl_opts = {\n",
        "                'format': format_str,\n",
        "                'outtmpl': os.path.join(output_folder, '%(title)s.%(ext)s'),\n",
        "            }\n",
        "            with yt_dlp.YoutubeDL(ydl_opts) as ydl:\n",
        "                info_dict = ydl.extract_info(url, download=True)\n",
        "                if info_dict.get('height') and info_dict['height'] <= int(resolution):\n",
        "                    print(f\"Download complete! Video in {info_dict['height']}p.\")\n",
        "                    return\n",
        "\n",
        "        print(f\"No available resolutions up to {resolution}p. Download failed.\")\n",
        "\n",
        "    except Exception as e:\n",
        "        print(f\"An error occurred: {str(e)}\")\n",
        "\n",
        "# Example usage:\n",
        "# video_url_1080 = \"https://www.youtube.com/watch?v=Psr4HZmWHnQ\"\n",
        "# download_youtube_video_1080(video_url_1080, resolution='1080')"
      ],
      "metadata": {
        "id": "k4cFu1muVAly"
      },
      "execution_count": 30,
      "outputs": []
    },
    {
      "cell_type": "code",
      "execution_count": 31,
      "metadata": {
        "id": "roE21avUyRiF"
      },
      "outputs": [],
      "source": [
        "import re\n",
        "from pytube import Playlist, YouTube\n",
        "\n",
        "# Specify the desired resolution\n",
        "desired_resolution = \"480p\"\n",
        "\n",
        "# Specify the output folder path\n",
        "output_folder = \"/content/downloads/\"\n",
        "\n",
        "def download_playlist_480(playlist_url):\n",
        "    playlist = Playlist(playlist_url)\n",
        "    playlist._video_regex = re.compile(r\"\\\"url\\\":\\\"(/watch\\?v=[\\w-]*)\")\n",
        "\n",
        "    print(f\"Downloading {len(playlist.video_urls)} videos from the playlist...\")\n",
        "\n",
        "    for video_url in playlist.video_urls:\n",
        "        try:\n",
        "            download_youtube_video_480_folder(video_url)\n",
        "            print(f\"Video '{video.title}' downloaded successfully!\")\n",
        "        except Exception as e:\n",
        "            print(f\"Error downloading video: {str(e)}\")\n",
        "\n",
        "    print(\"All videos downloaded successfully!\")"
      ]
    },
    {
      "cell_type": "markdown",
      "metadata": {
        "id": "8klQF7Vl-crv"
      },
      "source": [
        "## subtitle"
      ]
    },
    {
      "cell_type": "markdown",
      "metadata": {
        "id": "fSsC5zzoTvyL"
      },
      "source": [
        "#### download a video subtitle"
      ]
    },
    {
      "cell_type": "code",
      "execution_count": 32,
      "metadata": {
        "id": "W6e3sBToPgiL"
      },
      "outputs": [],
      "source": [
        "import yt_dlp\n",
        "\n",
        "# Function to download the YouTube video and extract subtitles\n",
        "def download_and_extract_subtitles(video_url):\n",
        "    ydl_opts = {\n",
        "        'writesubtitles': True,\n",
        "        'writeautomaticsub': True,\n",
        "        'skip_download': True,\n",
        "        'subtitlesformat': 'srt',\n",
        "    }\n",
        "\n",
        "    with yt_dlp.YoutubeDL(ydl_opts) as ydl:\n",
        "        info_dict = ydl.extract_info(video_url, download=False)\n",
        "        video_id = info_dict['id']\n",
        "        ydl.download([video_url])\n",
        "\n",
        "    return f'{video_id}.srt'\n",
        "\n",
        "# video_url = \"https://www.youtube.com/watch?v=N-xHcvug3WI\"\n",
        "# subtitle_file = download_and_extract_subtitles(video_url)\n",
        "\n",
        "\n"
      ]
    },
    {
      "cell_type": "markdown",
      "metadata": {
        "id": "WD2kzBYTPhKr"
      },
      "source": [
        "#### subtitle for playlist"
      ]
    },
    {
      "cell_type": "code",
      "execution_count": 33,
      "metadata": {
        "id": "qnVEDP5x-dKe"
      },
      "outputs": [],
      "source": [
        "import os\n",
        "import zipfile\n",
        "import shutil\n",
        "from pytube import Playlist\n",
        "from pytube import YouTube\n",
        "from youtube_transcript_api import YouTubeTranscriptApi\n",
        "\n",
        "# Function to download subtitles from a YouTube video\n",
        "def download_subtitles_as_srt(video_url):\n",
        "    try:\n",
        "        # Get video title\n",
        "        yt = YouTube(video_url)\n",
        "        video_title = yt.title.replace(\" \", \"_\").replace(\"/\", \"-\")  # Replace spaces and / with underscores and dashes\n",
        "\n",
        "        # Create the 'temp' folder if it doesn't exist\n",
        "        temp_folder = \"temp\"\n",
        "        os.makedirs(temp_folder, exist_ok=True)\n",
        "\n",
        "        # Download the video using pytube in the 'temp' folder\n",
        "        yt.streams.filter(file_extension='mp4', progressive=True, resolution='360p').first().download(output_path=temp_folder)\n",
        "        video_filename = os.path.join(temp_folder, f\"{video_title}.mp4\")\n",
        "\n",
        "        # Check if subtitles are available for the video\n",
        "        transcript_list = YouTubeTranscriptApi.get_transcript(yt.video_id)\n",
        "        if not transcript_list:\n",
        "            print(f\"No subtitles available for video: {video_url}\")\n",
        "            return None\n",
        "\n",
        "        # Convert transcript to .srt format\n",
        "        srt_data = ''\n",
        "        for i, transcript in enumerate(transcript_list, start=1):\n",
        "            start_time = transcript['start']\n",
        "            end_time = transcript['start'] + transcript['duration']\n",
        "            text = transcript['text'].replace('\\n', ' ')\n",
        "            srt_data += f\"{i}\\n{start_time} --> {end_time}\\n{text}\\n\\n\"\n",
        "\n",
        "        # Save the .srt file in the 'subtitles' folder\n",
        "        subtitles_folder = \"download\"\n",
        "        os.makedirs(subtitles_folder, exist_ok=True)  # Create the folder if it doesn't exist\n",
        "        srt_filename = os.path.join(subtitles_folder, f\"{video_title}.srt\")\n",
        "        with open(srt_filename, 'w', encoding='utf-8') as file:\n",
        "            file.write(srt_data)\n",
        "\n",
        "        # Remove the downloaded video file\n",
        "        os.remove(video_filename)\n",
        "\n",
        "        print(f\"Subtitles downloaded for video: {video_url}\")\n",
        "        return srt_filename\n",
        "    except Exception as e:\n",
        "        print(f\"Error downloading subtitles for video: {video_url}, Error: {e}\")\n",
        "        return None\n",
        "\n",
        "\n",
        "# Function to download subtitles for all videos in a playlist\n",
        "def download_subtitles_for_playlist(playlist_url):\n",
        "    playlist = Playlist(playlist_url)\n",
        "\n",
        "    try:\n",
        "        # Get the video URLs from the playlist using pytube\n",
        "        video_urls = playlist.video_urls\n",
        "\n",
        "        # Download subtitles for each video in the playlist\n",
        "        for video_url in video_urls:\n",
        "            srt_filename = download_subtitles_as_srt(video_url)\n",
        "            if srt_filename:\n",
        "                print(f\"Subtitles downloaded for video: {video_url}\")\n",
        "\n",
        "    except Exception as e:\n",
        "        print(f\"Error downloading playlist subtitles: {e}\")\n",
        "\n",
        "# # Provide the YouTube playlist URL\n",
        "# playlist_url = \"https://youtube.com/playlist?list=PLqYmG7hTraZDM-OYHWgPebj2MfCFzFObQ\"\n",
        "\n",
        "# # Call the function to download subtitles for the playlist\n",
        "# download_subtitles_for_playlist(playlist_url)\n"
      ]
    },
    {
      "cell_type": "markdown",
      "source": [
        "## zip file"
      ],
      "metadata": {
        "id": "Wm9DBdv1SeWn"
      }
    },
    {
      "cell_type": "code",
      "source": [
        "import os\n",
        "import zipfile\n",
        "\n",
        "def create_multiple_zip_files(source_folder='/content/download', max_zip_size=1 * 1024 * 1024 * 1024, destination_folder='/content'):\n",
        "    # Create the destination folder if it doesn't exist\n",
        "    os.makedirs(destination_folder, exist_ok=True)\n",
        "\n",
        "    # Initialize variables\n",
        "    current_zip = None\n",
        "    current_zip_size = 0\n",
        "    zip_index = 1\n",
        "\n",
        "    # Function to create a new zip file\n",
        "    def create_new_zip():\n",
        "        nonlocal current_zip, zip_index\n",
        "        current_zip_size = 0\n",
        "        zip_filename = os.path.join(destination_folder, f'part{zip_index:03d}.zip')\n",
        "        current_zip = zipfile.ZipFile(zip_filename, 'w', zipfile.ZIP_DEFLATED)\n",
        "        zip_index += 1\n",
        "\n",
        "    # Create the first zip file\n",
        "    create_new_zip()\n",
        "\n",
        "    # Iterate through the files in the source folder\n",
        "    for root, dirs, files in os.walk(source_folder):\n",
        "        for file in files:\n",
        "            file_path = os.path.join(root, file)\n",
        "            file_size = os.path.getsize(file_path)\n",
        "\n",
        "            # If adding the file to the current zip file would exceed the max size, create a new zip file\n",
        "            if current_zip_size + file_size > max_zip_size:\n",
        "                current_zip.close()\n",
        "                create_new_zip()\n",
        "\n",
        "            # Add the file to the current zip file\n",
        "            current_zip.write(file_path, os.path.relpath(file_path, source_folder))\n",
        "            current_zip_size += file_size\n",
        "\n",
        "    # Close the last zip file\n",
        "    if current_zip:\n",
        "        current_zip.close()\n",
        "\n",
        "# # Example usage with default values:\n",
        "# create_multiple_zip_files()\n"
      ],
      "metadata": {
        "id": "YDThySpaSda2"
      },
      "execution_count": 34,
      "outputs": []
    },
    {
      "cell_type": "markdown",
      "metadata": {
        "id": "Fdfjpv3Yhs_x"
      },
      "source": [
        "## Main"
      ]
    },
    {
      "cell_type": "code",
      "execution_count": 35,
      "metadata": {
        "colab": {
          "base_uri": "https://localhost:8080/"
        },
        "id": "vvO2W8UYhsfq",
        "outputId": "fdff9a10-d460-403e-dc04-f5b154d857d8"
      },
      "outputs": [
        {
          "output_type": "stream",
          "name": "stdout",
          "text": [
            "[youtube] Extracting URL: https://www.youtube.com/watch?v=grZigSpVDno\n",
            "[youtube] grZigSpVDno: Downloading webpage\n",
            "[youtube] grZigSpVDno: Downloading ios player API JSON\n",
            "[youtube] grZigSpVDno: Downloading android player API JSON\n",
            "[youtube] grZigSpVDno: Downloading m3u8 information\n",
            "[info] grZigSpVDno: Downloading 1 format(s): 248+251\n",
            "[download] Destination: Marvel's Spider-Man 2 - Expanded Marvel's New York ｜ PS5 Games [grZigSpVDno].f248.webm\n",
            "[download] 100% of   70.72MiB in 00:00:02 at 24.27MiB/s  \n",
            "[download] Destination: Marvel's Spider-Man 2 - Expanded Marvel's New York ｜ PS5 Games [grZigSpVDno].f251.webm\n",
            "[download] 100% of    3.53MiB in 00:00:00 at 37.90MiB/s  \n",
            "[Merger] Merging formats into \"Marvel's Spider-Man 2 - Expanded Marvel's New York ｜ PS5 Games [grZigSpVDno].webm\"\n",
            "Deleting original file Marvel's Spider-Man 2 - Expanded Marvel's New York ｜ PS5 Games [grZigSpVDno].f248.webm (pass -k to keep)\n",
            "Deleting original file Marvel's Spider-Man 2 - Expanded Marvel's New York ｜ PS5 Games [grZigSpVDno].f251.webm (pass -k to keep)\n",
            "Download complete! Video in 1080p.\n",
            "[youtube] Extracting URL: https://www.youtube.com/watch?v=grZigSpVDno\n",
            "[youtube] grZigSpVDno: Downloading webpage\n",
            "[youtube] grZigSpVDno: Downloading ios player API JSON\n",
            "[youtube] grZigSpVDno: Downloading android player API JSON\n",
            "[youtube] grZigSpVDno: Downloading m3u8 information\n",
            "[info] grZigSpVDno: Downloading subtitles: en\n"
          ]
        },
        {
          "output_type": "stream",
          "name": "stderr",
          "text": [
            "WARNING: No subtitle format found matching \"srt\" for language en, using vtt\n"
          ]
        },
        {
          "output_type": "stream",
          "name": "stdout",
          "text": [
            "[youtube] Extracting URL: https://www.youtube.com/watch?v=grZigSpVDno\n",
            "[youtube] grZigSpVDno: Downloading webpage\n",
            "[youtube] grZigSpVDno: Downloading ios player API JSON\n",
            "[youtube] grZigSpVDno: Downloading android player API JSON\n",
            "[youtube] grZigSpVDno: Downloading m3u8 information\n",
            "[info] grZigSpVDno: Downloading subtitles: en\n"
          ]
        },
        {
          "output_type": "stream",
          "name": "stderr",
          "text": [
            "WARNING: No subtitle format found matching \"srt\" for language en, using vtt\n"
          ]
        },
        {
          "output_type": "stream",
          "name": "stdout",
          "text": [
            "[info] grZigSpVDno: Downloading 1 format(s): 313+251\n",
            "[info] Writing video subtitles to: Marvel's Spider-Man 2 - Expanded Marvel's New York ｜ PS5 Games [grZigSpVDno].en.vtt\n",
            "[download] Destination: Marvel's Spider-Man 2 - Expanded Marvel's New York ｜ PS5 Games [grZigSpVDno].en.vtt\n",
            "[download] 100% of    6.60KiB in 00:00:00 at 142.07KiB/s\n",
            "Downloading 16 videos from the playlist...\n",
            "[youtube] Extracting URL: https://www.youtube.com/watch?v=fNk_zzaMoSs\n",
            "[youtube] fNk_zzaMoSs: Downloading webpage\n",
            "[youtube] fNk_zzaMoSs: Downloading ios player API JSON\n",
            "[youtube] fNk_zzaMoSs: Downloading android player API JSON\n",
            "[youtube] fNk_zzaMoSs: Downloading m3u8 information\n",
            "[info] fNk_zzaMoSs: Downloading 1 format(s): 244+251\n",
            "[download] download/Vectors ｜ Chapter 1, Essence of linear algebra.webm has already been downloaded\n",
            "Download complete! Video in 480p.\n",
            "Error downloading video: name 'video' is not defined\n",
            "[youtube] Extracting URL: https://www.youtube.com/watch?v=k7RM-ot2NWY\n",
            "[youtube] k7RM-ot2NWY: Downloading webpage\n",
            "[youtube] k7RM-ot2NWY: Downloading ios player API JSON\n",
            "[youtube] k7RM-ot2NWY: Downloading android player API JSON\n",
            "[youtube] k7RM-ot2NWY: Downloading m3u8 information\n",
            "[info] k7RM-ot2NWY: Downloading 1 format(s): 244+251\n",
            "[download] download/Linear combinations, span, and basis vectors ｜ Chapter 2, Essence of linear algebra.webm has already been downloaded\n",
            "Download complete! Video in 480p.\n",
            "Error downloading video: name 'video' is not defined\n",
            "[youtube] Extracting URL: https://www.youtube.com/watch?v=kYB8IZa5AuE\n",
            "[youtube] kYB8IZa5AuE: Downloading webpage\n",
            "[youtube] kYB8IZa5AuE: Downloading ios player API JSON\n",
            "[youtube] kYB8IZa5AuE: Downloading android player API JSON\n",
            "[youtube] kYB8IZa5AuE: Downloading m3u8 information\n",
            "[info] kYB8IZa5AuE: Downloading 1 format(s): 244+251\n",
            "[download] download/Linear transformations and matrices ｜ Chapter 3, Essence of linear algebra.webm has already been downloaded\n",
            "Download complete! Video in 480p.\n",
            "Error downloading video: name 'video' is not defined\n",
            "[youtube] Extracting URL: https://www.youtube.com/watch?v=XkY2DOUCWMU\n",
            "[youtube] XkY2DOUCWMU: Downloading webpage\n",
            "[youtube] XkY2DOUCWMU: Downloading ios player API JSON\n",
            "[youtube] XkY2DOUCWMU: Downloading android player API JSON\n",
            "[youtube] XkY2DOUCWMU: Downloading m3u8 information\n",
            "[info] XkY2DOUCWMU: Downloading 1 format(s): 244+251\n",
            "[download] download/Matrix multiplication as composition ｜ Chapter 4, Essence of linear algebra.webm has already been downloaded\n",
            "Download complete! Video in 480p.\n",
            "Error downloading video: name 'video' is not defined\n",
            "[youtube] Extracting URL: https://www.youtube.com/watch?v=rHLEWRxRGiM\n",
            "[youtube] rHLEWRxRGiM: Downloading webpage\n",
            "[youtube] rHLEWRxRGiM: Downloading ios player API JSON\n",
            "[youtube] rHLEWRxRGiM: Downloading android player API JSON\n",
            "[youtube] rHLEWRxRGiM: Downloading m3u8 information\n",
            "[info] rHLEWRxRGiM: Downloading 1 format(s): 244+251\n",
            "[download] download/Three-dimensional linear transformations ｜ Chapter 5, Essence of linear algebra.webm has already been downloaded\n",
            "Download complete! Video in 480p.\n",
            "Error downloading video: name 'video' is not defined\n",
            "[youtube] Extracting URL: https://www.youtube.com/watch?v=Ip3X9LOh2dk\n",
            "[youtube] Ip3X9LOh2dk: Downloading webpage\n",
            "[youtube] Ip3X9LOh2dk: Downloading ios player API JSON\n",
            "[youtube] Ip3X9LOh2dk: Downloading android player API JSON\n",
            "[youtube] Ip3X9LOh2dk: Downloading m3u8 information\n",
            "[info] Ip3X9LOh2dk: Downloading 1 format(s): 244+251\n",
            "[download] download/The determinant ｜ Chapter 6, Essence of linear algebra.webm has already been downloaded\n",
            "Download complete! Video in 480p.\n",
            "Error downloading video: name 'video' is not defined\n",
            "[youtube] Extracting URL: https://www.youtube.com/watch?v=uQhTuRlWMxw\n",
            "[youtube] uQhTuRlWMxw: Downloading webpage\n",
            "[youtube] uQhTuRlWMxw: Downloading ios player API JSON\n",
            "[youtube] uQhTuRlWMxw: Downloading android player API JSON\n",
            "[youtube] uQhTuRlWMxw: Downloading m3u8 information\n",
            "[info] uQhTuRlWMxw: Downloading 1 format(s): 244+251\n",
            "[download] download/Inverse matrices, column space and null space ｜ Chapter 7, Essence of linear algebra.webm has already been downloaded\n",
            "Download complete! Video in 480p.\n",
            "Error downloading video: name 'video' is not defined\n",
            "[youtube] Extracting URL: https://www.youtube.com/watch?v=v8VSDg_WQlA\n",
            "[youtube] v8VSDg_WQlA: Downloading webpage\n",
            "[youtube] v8VSDg_WQlA: Downloading ios player API JSON\n",
            "[youtube] v8VSDg_WQlA: Downloading android player API JSON\n",
            "[youtube] v8VSDg_WQlA: Downloading m3u8 information\n",
            "[info] v8VSDg_WQlA: Downloading 1 format(s): 244+251-1\n",
            "[download] download/Nonsquare matrices as transformations between dimensions ｜ Chapter 8, Essence of linear algebra.webm has already been downloaded\n",
            "Download complete! Video in 480p.\n",
            "Error downloading video: name 'video' is not defined\n",
            "[youtube] Extracting URL: https://www.youtube.com/watch?v=LyGKycYT2v0\n",
            "[youtube] LyGKycYT2v0: Downloading webpage\n",
            "[youtube] LyGKycYT2v0: Downloading ios player API JSON\n",
            "[youtube] LyGKycYT2v0: Downloading android player API JSON\n",
            "[youtube] LyGKycYT2v0: Downloading m3u8 information\n",
            "[info] LyGKycYT2v0: Downloading 1 format(s): 244+251\n",
            "[download] download/Dot products and duality ｜ Chapter 9, Essence of linear algebra.webm has already been downloaded\n",
            "Download complete! Video in 480p.\n",
            "Error downloading video: name 'video' is not defined\n",
            "[youtube] Extracting URL: https://www.youtube.com/watch?v=eu6i7WJeinw\n",
            "[youtube] eu6i7WJeinw: Downloading webpage\n",
            "[youtube] eu6i7WJeinw: Downloading ios player API JSON\n",
            "[youtube] eu6i7WJeinw: Downloading android player API JSON\n",
            "[youtube] eu6i7WJeinw: Downloading m3u8 information\n",
            "[info] eu6i7WJeinw: Downloading 1 format(s): 244+251\n",
            "[download] download/Cross products ｜ Chapter 10, Essence of linear algebra.webm has already been downloaded\n",
            "Download complete! Video in 480p.\n",
            "Error downloading video: name 'video' is not defined\n",
            "[youtube] Extracting URL: https://www.youtube.com/watch?v=BaM7OCEm3G0\n",
            "[youtube] BaM7OCEm3G0: Downloading webpage\n",
            "[youtube] BaM7OCEm3G0: Downloading ios player API JSON\n",
            "[youtube] BaM7OCEm3G0: Downloading android player API JSON\n",
            "[youtube] BaM7OCEm3G0: Downloading m3u8 information\n",
            "[info] BaM7OCEm3G0: Downloading 1 format(s): 244+251\n",
            "[download] download/Cross products in the light of linear transformations ｜ Chapter 11, Essence of linear algebra.webm has already been downloaded\n",
            "Download complete! Video in 480p.\n",
            "Error downloading video: name 'video' is not defined\n",
            "[youtube] Extracting URL: https://www.youtube.com/watch?v=jBsC34PxzoM\n",
            "[youtube] jBsC34PxzoM: Downloading webpage\n",
            "[youtube] jBsC34PxzoM: Downloading ios player API JSON\n",
            "[youtube] jBsC34PxzoM: Downloading android player API JSON\n",
            "[youtube] jBsC34PxzoM: Downloading m3u8 information\n",
            "[info] jBsC34PxzoM: Downloading 1 format(s): 244+251\n",
            "[download] download/Cramer's rule, explained geometrically ｜ Chapter 12, Essence of linear algebra.webm has already been downloaded\n",
            "Download complete! Video in 480p.\n",
            "Error downloading video: name 'video' is not defined\n",
            "[youtube] Extracting URL: https://www.youtube.com/watch?v=P2LTAUO1TdA\n",
            "[youtube] P2LTAUO1TdA: Downloading webpage\n",
            "[youtube] P2LTAUO1TdA: Downloading ios player API JSON\n",
            "[youtube] P2LTAUO1TdA: Downloading android player API JSON\n",
            "[youtube] P2LTAUO1TdA: Downloading m3u8 information\n",
            "[info] P2LTAUO1TdA: Downloading 1 format(s): 244+251\n",
            "[download] download/Change of basis ｜ Chapter 13, Essence of linear algebra.webm has already been downloaded\n",
            "Download complete! Video in 480p.\n",
            "Error downloading video: name 'video' is not defined\n",
            "[youtube] Extracting URL: https://www.youtube.com/watch?v=PFDu9oVAE-g\n",
            "[youtube] PFDu9oVAE-g: Downloading webpage\n",
            "[youtube] PFDu9oVAE-g: Downloading ios player API JSON\n",
            "[youtube] PFDu9oVAE-g: Downloading android player API JSON\n",
            "[youtube] PFDu9oVAE-g: Downloading m3u8 information\n",
            "[info] PFDu9oVAE-g: Downloading 1 format(s): 244+251\n",
            "[download] download/Eigenvectors and eigenvalues ｜ Chapter 14, Essence of linear algebra.webm has already been downloaded\n",
            "Download complete! Video in 480p.\n",
            "Error downloading video: name 'video' is not defined\n",
            "[youtube] Extracting URL: https://www.youtube.com/watch?v=e50Bj7jn9IQ\n",
            "[youtube] e50Bj7jn9IQ: Downloading webpage\n",
            "[youtube] e50Bj7jn9IQ: Downloading ios player API JSON\n",
            "[youtube] e50Bj7jn9IQ: Downloading android player API JSON\n",
            "[youtube] e50Bj7jn9IQ: Downloading m3u8 information\n",
            "[info] e50Bj7jn9IQ: Downloading 1 format(s): 244+251\n",
            "[download] download/A quick trick for computing eigenvalues ｜ Chapter 15, Essence of linear algebra.webm has already been downloaded\n",
            "Download complete! Video in 480p.\n",
            "Error downloading video: name 'video' is not defined\n",
            "[youtube] Extracting URL: https://www.youtube.com/watch?v=TgKwz5Ikpc8\n",
            "[youtube] TgKwz5Ikpc8: Downloading webpage\n",
            "[youtube] TgKwz5Ikpc8: Downloading ios player API JSON\n",
            "[youtube] TgKwz5Ikpc8: Downloading android player API JSON\n",
            "[youtube] TgKwz5Ikpc8: Downloading m3u8 information\n",
            "[info] TgKwz5Ikpc8: Downloading 1 format(s): 244+251\n",
            "[download] download/Abstract vector spaces ｜ Chapter 16, Essence of linear algebra.webm has already been downloaded\n",
            "Download complete! Video in 480p.\n",
            "Error downloading video: name 'video' is not defined\n",
            "All videos downloaded successfully!\n",
            "Error downloading subtitles for video: https://www.youtube.com/watch?v=fNk_zzaMoSs, Error: [Errno 2] No such file or directory: 'temp/Vectors_|_Chapter_1,_Essence_of_linear_algebra.mp4'\n",
            "Error downloading subtitles for video: https://www.youtube.com/watch?v=k7RM-ot2NWY, Error: [Errno 2] No such file or directory: 'temp/Linear_combinations,_span,_and_basis_vectors_|_Chapter_2,_Essence_of_linear_algebra.mp4'\n",
            "Error downloading subtitles for video: https://www.youtube.com/watch?v=kYB8IZa5AuE, Error: [Errno 2] No such file or directory: 'temp/Linear_transformations_and_matrices_|_Chapter_3,_Essence_of_linear_algebra.mp4'\n",
            "Error downloading subtitles for video: https://www.youtube.com/watch?v=XkY2DOUCWMU, Error: [Errno 2] No such file or directory: 'temp/Matrix_multiplication_as_composition_|_Chapter_4,_Essence_of_linear_algebra.mp4'\n",
            "Error downloading subtitles for video: https://www.youtube.com/watch?v=rHLEWRxRGiM, Error: [Errno 2] No such file or directory: 'temp/Three-dimensional_linear_transformations_|_Chapter_5,_Essence_of_linear_algebra.mp4'\n",
            "Error downloading subtitles for video: https://www.youtube.com/watch?v=Ip3X9LOh2dk, Error: [Errno 2] No such file or directory: 'temp/The_determinant_|_Chapter_6,_Essence_of_linear_algebra.mp4'\n",
            "Error downloading subtitles for video: https://www.youtube.com/watch?v=uQhTuRlWMxw, Error: [Errno 2] No such file or directory: 'temp/Inverse_matrices,_column_space_and_null_space_|_Chapter_7,_Essence_of_linear_algebra.mp4'\n",
            "Error downloading subtitles for video: https://www.youtube.com/watch?v=v8VSDg_WQlA, Error: [Errno 2] No such file or directory: 'temp/Nonsquare_matrices_as_transformations_between_dimensions_|_Chapter_8,_Essence_of_linear_algebra.mp4'\n",
            "Error downloading subtitles for video: https://www.youtube.com/watch?v=LyGKycYT2v0, Error: [Errno 2] No such file or directory: 'temp/Dot_products_and_duality_|_Chapter_9,_Essence_of_linear_algebra.mp4'\n",
            "Error downloading subtitles for video: https://www.youtube.com/watch?v=eu6i7WJeinw, Error: [Errno 2] No such file or directory: 'temp/Cross_products_|_Chapter_10,_Essence_of_linear_algebra.mp4'\n",
            "Error downloading subtitles for video: https://www.youtube.com/watch?v=BaM7OCEm3G0, Error: [Errno 2] No such file or directory: 'temp/Cross_products_in_the_light_of_linear_transformations_|_Chapter_11,_Essence_of_linear_algebra.mp4'\n",
            "Error downloading subtitles for video: https://www.youtube.com/watch?v=jBsC34PxzoM, Error: [Errno 2] No such file or directory: \"temp/Cramer's_rule,_explained_geometrically_|_Chapter_12,_Essence_of_linear_algebra.mp4\"\n",
            "Error downloading subtitles for video: https://www.youtube.com/watch?v=P2LTAUO1TdA, Error: [Errno 2] No such file or directory: 'temp/Change_of_basis_|_Chapter_13,_Essence_of_linear_algebra.mp4'\n",
            "Error downloading subtitles for video: https://www.youtube.com/watch?v=PFDu9oVAE-g, Error: [Errno 2] No such file or directory: 'temp/Eigenvectors_and_eigenvalues_|_Chapter_14,_Essence_of_linear_algebra.mp4'\n",
            "Error downloading subtitles for video: https://www.youtube.com/watch?v=e50Bj7jn9IQ, Error: [Errno 2] No such file or directory: 'temp/A_quick_trick_for_computing_eigenvalues_|_Chapter_15,_Essence_of_linear_algebra.mp4'\n",
            "Error downloading subtitles for video: https://www.youtube.com/watch?v=TgKwz5Ikpc8, Error: [Errno 2] No such file or directory: 'temp/Abstract_vector_spaces_|_Chapter_16,_Essence_of_linear_algebra.mp4'\n"
          ]
        }
      ],
      "source": [
        "# Created by M.Mashreghi\n",
        "\n",
        "\n",
        "def main():\n",
        "    if video_url_480 != \"\":\n",
        "      download_youtube_video_480(video_url_480, resolution='480')\n",
        "      subtitle_file = download_and_extract_subtitles(video_url_480)\n",
        "    if video_url_720 != \"\":\n",
        "      download_youtube_video_720(video_url_720, resolution='720')\n",
        "      subtitle_file = download_and_extract_subtitles(video_url_720)\n",
        "\n",
        "    if video_url_1080 != \"\":\n",
        "      download_youtube_video_1080(video_url_1080, resolution='1080')\n",
        "      subtitle_file = download_and_extract_subtitles(video_url_1080)\n",
        "\n",
        "\n",
        "    if video_url_best_quality != \"\":\n",
        "      download_youtube_video_best_quality(video_url_best_quality)\n",
        "      subtitle_file = download_and_extract_subtitles(video_url_best_quality)\n",
        "\n",
        "\n",
        "    if playlist_url_high_quallity != \"\":\n",
        "      download_playlist(playlist_url_high_quallity)\n",
        "      download_subtitles_for_playlist(playlist_url_high_quallity)\n",
        "      create_multiple_zip_files()\n",
        "\n",
        "\n",
        "    if playlist_url_480 != \"\":\n",
        "      download_playlist_480(playlist_url_480)\n",
        "      download_subtitles_for_playlist(playlist_url_480)\n",
        "      create_multiple_zip_files()\n",
        "\n",
        "    if video_url_for_thumbnail != \"\":\n",
        "      thumbnail_path = download_thumbnail(video_url_for_thumbnail)\n",
        "      print(f\"Thumbnail downloaded successfully: {thumbnail_path}\")\n",
        "    if video_url_for_music != \"\":\n",
        "      download_youtube_audio(video_url_for_music)\n",
        "      subtitle_file = download_and_extract_subtitles(video_url_for_music)\n",
        "\n",
        "\n",
        "\n",
        "\n",
        "\n",
        "if __name__ == \"__main__\":\n",
        "    main()\n"
      ]
    },
    {
      "cell_type": "code",
      "execution_count": 36,
      "metadata": {
        "id": "DpbNKzy_d7fN",
        "colab": {
          "base_uri": "https://localhost:8080/"
        },
        "outputId": "a4c10d75-c9ee-43ed-ebf4-6a5c779d2314"
      },
      "outputs": [
        {
          "output_type": "stream",
          "name": "stdout",
          "text": [
            "The number of files in /content/download is: 32\n"
          ]
        }
      ],
      "source": [
        "import os\n",
        "\n",
        "# Specify the path to the folder\n",
        "folder_path = '/content/download'\n",
        "\n",
        "# Use os.listdir() to list the files in the folder\n",
        "files = os.listdir(folder_path)\n",
        "\n",
        "# Use len() to count the number of files\n",
        "num_files = len(files)\n",
        "\n",
        "print(f'The number of files in {folder_path} is: {num_files}')\n"
      ]
    },
    {
      "cell_type": "markdown",
      "metadata": {
        "id": "apqPsbWzyEjo"
      },
      "source": [
        "# Delete the playlist folder and files for playlist (don't run)"
      ]
    },
    {
      "cell_type": "code",
      "execution_count": 85,
      "metadata": {
        "colab": {
          "base_uri": "https://localhost:8080/"
        },
        "id": "xG8VxwNPtyU5",
        "outputId": "aab7a4f6-8944-4822-e89a-a43f3ec4b2ff"
      },
      "outputs": [
        {
          "output_type": "stream",
          "name": "stdout",
          "text": [
            "Downloads folder deleted successfully!\n"
          ]
        }
      ],
      "source": [
        "import os\n",
        "import shutil\n",
        "\n",
        "# Specify the path to the folder containing the zip files (adjust this path as needed)\n",
        "zip_folder_path = '/content'\n",
        "\n",
        "# Function to delete all zip files in a folder\n",
        "def delete_all_zip_files(folder_path):\n",
        "    for filename in os.listdir(folder_path):\n",
        "        if filename.endswith('.zip'):\n",
        "            file_path = os.path.join(folder_path, filename)\n",
        "            os.remove(file_path)\n",
        "\n",
        "# Call the function to delete all zip files in the specified folder\n",
        "delete_all_zip_files(zip_folder_path)\n",
        "\n",
        "# Now, let's delete the main folder as you've mentioned\n",
        "downloads_folder_path = \"/content/download\"\n",
        "shutil.rmtree(downloads_folder_path)\n",
        "\n",
        "print(\"Zip files and the main folder have been deleted successfully!\")\n"
      ]
    }
  ],
  "metadata": {
    "colab": {
      "collapsed_sections": [
        "m02j4iXQfkmj",
        "deRT0MGxzB9v",
        "iZv5BzFHwfro",
        "e_4EfDXGclEU",
        "Pn9RSIo75BDg",
        "gcsFJmdl3Sy8",
        "QqogWXL34X_R",
        "mlxIq7mezYHM",
        "fSsC5zzoTvyL",
        "WD2kzBYTPhKr",
        "Wm9DBdv1SeWn",
        "apqPsbWzyEjo"
      ],
      "provenance": []
    },
    "kernelspec": {
      "display_name": "Python 3",
      "name": "python3"
    },
    "language_info": {
      "name": "python"
    }
  },
  "nbformat": 4,
  "nbformat_minor": 0
}